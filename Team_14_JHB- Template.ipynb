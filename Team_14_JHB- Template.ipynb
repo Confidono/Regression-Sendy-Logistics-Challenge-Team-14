{
 "cells": [
  {
   "cell_type": "markdown",
   "metadata": {},
   "source": [
    "# Preprocessing the data"
   ]
  },
  {
   "cell_type": "markdown",
   "metadata": {
    "heading_collapsed": true
   },
   "source": [
    "## Importing the libraries"
   ]
  },
  {
   "cell_type": "code",
   "execution_count": 14,
   "metadata": {
    "hidden": true
   },
   "outputs": [],
   "source": [
    "import numpy as np\n",
    "import matplotlib.pyplot as plt\n",
    "import pandas as pd\n",
    "import seaborn as sns"
   ]
  },
  {
   "cell_type": "code",
   "execution_count": null,
   "metadata": {
    "hidden": true
   },
   "outputs": [],
   "source": []
  },
  {
   "cell_type": "markdown",
   "metadata": {},
   "source": [
    "## Importing the dataset"
   ]
  },
  {
   "cell_type": "markdown",
   "metadata": {
    "heading_collapsed": true
   },
   "source": [
    "##### Variable definitions"
   ]
  },
  {
   "cell_type": "code",
   "execution_count": 15,
   "metadata": {
    "hidden": true
   },
   "outputs": [
    {
     "data": {
      "text/html": [
       "<style  type=\"text/css\" >\n",
       "    #T_b0fe7222_9db0_11ea_8857_f0d4e2f89142row0_col1 {\n",
       "            width:  600px;\n",
       "        }    #T_b0fe7222_9db0_11ea_8857_f0d4e2f89142row1_col1 {\n",
       "            width:  600px;\n",
       "        }    #T_b0fe7222_9db0_11ea_8857_f0d4e2f89142row2_col1 {\n",
       "            width:  600px;\n",
       "        }    #T_b0fe7222_9db0_11ea_8857_f0d4e2f89142row3_col1 {\n",
       "            width:  600px;\n",
       "        }    #T_b0fe7222_9db0_11ea_8857_f0d4e2f89142row4_col1 {\n",
       "            width:  600px;\n",
       "        }    #T_b0fe7222_9db0_11ea_8857_f0d4e2f89142row5_col1 {\n",
       "            width:  600px;\n",
       "        }    #T_b0fe7222_9db0_11ea_8857_f0d4e2f89142row6_col1 {\n",
       "            width:  600px;\n",
       "        }    #T_b0fe7222_9db0_11ea_8857_f0d4e2f89142row7_col1 {\n",
       "            width:  600px;\n",
       "        }    #T_b0fe7222_9db0_11ea_8857_f0d4e2f89142row8_col1 {\n",
       "            width:  600px;\n",
       "        }    #T_b0fe7222_9db0_11ea_8857_f0d4e2f89142row9_col1 {\n",
       "            width:  600px;\n",
       "        }    #T_b0fe7222_9db0_11ea_8857_f0d4e2f89142row10_col1 {\n",
       "            width:  600px;\n",
       "        }    #T_b0fe7222_9db0_11ea_8857_f0d4e2f89142row11_col1 {\n",
       "            width:  600px;\n",
       "        }    #T_b0fe7222_9db0_11ea_8857_f0d4e2f89142row12_col1 {\n",
       "            width:  600px;\n",
       "        }    #T_b0fe7222_9db0_11ea_8857_f0d4e2f89142row13_col1 {\n",
       "            width:  600px;\n",
       "        }    #T_b0fe7222_9db0_11ea_8857_f0d4e2f89142row14_col1 {\n",
       "            width:  600px;\n",
       "        }    #T_b0fe7222_9db0_11ea_8857_f0d4e2f89142row15_col1 {\n",
       "            width:  600px;\n",
       "        }    #T_b0fe7222_9db0_11ea_8857_f0d4e2f89142row16_col1 {\n",
       "            width:  600px;\n",
       "        }    #T_b0fe7222_9db0_11ea_8857_f0d4e2f89142row17_col1 {\n",
       "            width:  600px;\n",
       "        }    #T_b0fe7222_9db0_11ea_8857_f0d4e2f89142row18_col1 {\n",
       "            width:  600px;\n",
       "        }    #T_b0fe7222_9db0_11ea_8857_f0d4e2f89142row19_col1 {\n",
       "            width:  600px;\n",
       "        }    #T_b0fe7222_9db0_11ea_8857_f0d4e2f89142row20_col1 {\n",
       "            width:  600px;\n",
       "        }    #T_b0fe7222_9db0_11ea_8857_f0d4e2f89142row21_col1 {\n",
       "            width:  600px;\n",
       "        }    #T_b0fe7222_9db0_11ea_8857_f0d4e2f89142row22_col1 {\n",
       "            width:  600px;\n",
       "        }    #T_b0fe7222_9db0_11ea_8857_f0d4e2f89142row23_col1 {\n",
       "            width:  600px;\n",
       "        }    #T_b0fe7222_9db0_11ea_8857_f0d4e2f89142row24_col1 {\n",
       "            width:  600px;\n",
       "        }    #T_b0fe7222_9db0_11ea_8857_f0d4e2f89142row25_col1 {\n",
       "            width:  600px;\n",
       "        }    #T_b0fe7222_9db0_11ea_8857_f0d4e2f89142row26_col1 {\n",
       "            width:  600px;\n",
       "        }    #T_b0fe7222_9db0_11ea_8857_f0d4e2f89142row27_col1 {\n",
       "            width:  600px;\n",
       "        }    #T_b0fe7222_9db0_11ea_8857_f0d4e2f89142row28_col1 {\n",
       "            width:  600px;\n",
       "        }    #T_b0fe7222_9db0_11ea_8857_f0d4e2f89142row29_col1 {\n",
       "            width:  600px;\n",
       "        }    #T_b0fe7222_9db0_11ea_8857_f0d4e2f89142row30_col1 {\n",
       "            width:  600px;\n",
       "        }    #T_b0fe7222_9db0_11ea_8857_f0d4e2f89142row31_col1 {\n",
       "            width:  600px;\n",
       "        }    #T_b0fe7222_9db0_11ea_8857_f0d4e2f89142row32_col1 {\n",
       "            width:  600px;\n",
       "        }    #T_b0fe7222_9db0_11ea_8857_f0d4e2f89142row33_col1 {\n",
       "            width:  600px;\n",
       "        }    #T_b0fe7222_9db0_11ea_8857_f0d4e2f89142row34_col1 {\n",
       "            width:  600px;\n",
       "        }    #T_b0fe7222_9db0_11ea_8857_f0d4e2f89142row35_col1 {\n",
       "            width:  600px;\n",
       "        }</style><table id=\"T_b0fe7222_9db0_11ea_8857_f0d4e2f89142\" ><thead>    <tr>        <th class=\"blank level0\" ></th>        <th class=\"col_heading level0 col0\" >Column_Name</th>        <th class=\"col_heading level0 col1\" >Description</th>    </tr></thead><tbody>\n",
       "                <tr>\n",
       "                        <th id=\"T_b0fe7222_9db0_11ea_8857_f0d4e2f89142level0_row0\" class=\"row_heading level0 row0\" >0</th>\n",
       "                        <td id=\"T_b0fe7222_9db0_11ea_8857_f0d4e2f89142row0_col0\" class=\"data row0 col0\" >Order No</td>\n",
       "                        <td id=\"T_b0fe7222_9db0_11ea_8857_f0d4e2f89142row0_col1\" class=\"data row0 col1\" >Unique number identifying the order</td>\n",
       "            </tr>\n",
       "            <tr>\n",
       "                        <th id=\"T_b0fe7222_9db0_11ea_8857_f0d4e2f89142level0_row1\" class=\"row_heading level0 row1\" >1</th>\n",
       "                        <td id=\"T_b0fe7222_9db0_11ea_8857_f0d4e2f89142row1_col0\" class=\"data row1 col0\" >User Id</td>\n",
       "                        <td id=\"T_b0fe7222_9db0_11ea_8857_f0d4e2f89142row1_col1\" class=\"data row1 col1\" >Unique number identifying the customer on a platform</td>\n",
       "            </tr>\n",
       "            <tr>\n",
       "                        <th id=\"T_b0fe7222_9db0_11ea_8857_f0d4e2f89142level0_row2\" class=\"row_heading level0 row2\" >2</th>\n",
       "                        <td id=\"T_b0fe7222_9db0_11ea_8857_f0d4e2f89142row2_col0\" class=\"data row2 col0\" >Vehicle Type</td>\n",
       "                        <td id=\"T_b0fe7222_9db0_11ea_8857_f0d4e2f89142row2_col1\" class=\"data row2 col1\" >For this competition limited to bikes, however in practice Sendy service extends to trucks and vans</td>\n",
       "            </tr>\n",
       "            <tr>\n",
       "                        <th id=\"T_b0fe7222_9db0_11ea_8857_f0d4e2f89142level0_row3\" class=\"row_heading level0 row3\" >3</th>\n",
       "                        <td id=\"T_b0fe7222_9db0_11ea_8857_f0d4e2f89142row3_col0\" class=\"data row3 col0\" >Platform Type</td>\n",
       "                        <td id=\"T_b0fe7222_9db0_11ea_8857_f0d4e2f89142row3_col1\" class=\"data row3 col1\" >Platform used to place the order, there are 4 types</td>\n",
       "            </tr>\n",
       "            <tr>\n",
       "                        <th id=\"T_b0fe7222_9db0_11ea_8857_f0d4e2f89142level0_row4\" class=\"row_heading level0 row4\" >4</th>\n",
       "                        <td id=\"T_b0fe7222_9db0_11ea_8857_f0d4e2f89142row4_col0\" class=\"data row4 col0\" >Personal or Business</td>\n",
       "                        <td id=\"T_b0fe7222_9db0_11ea_8857_f0d4e2f89142row4_col1\" class=\"data row4 col1\" >Customer type</td>\n",
       "            </tr>\n",
       "            <tr>\n",
       "                        <th id=\"T_b0fe7222_9db0_11ea_8857_f0d4e2f89142level0_row5\" class=\"row_heading level0 row5\" >5</th>\n",
       "                        <td id=\"T_b0fe7222_9db0_11ea_8857_f0d4e2f89142row5_col0\" class=\"data row5 col0\" >Placement - Day of Month</td>\n",
       "                        <td id=\"T_b0fe7222_9db0_11ea_8857_f0d4e2f89142row5_col1\" class=\"data row5 col1\" >Placement - Day of Month i.e 1-31</td>\n",
       "            </tr>\n",
       "            <tr>\n",
       "                        <th id=\"T_b0fe7222_9db0_11ea_8857_f0d4e2f89142level0_row6\" class=\"row_heading level0 row6\" >6</th>\n",
       "                        <td id=\"T_b0fe7222_9db0_11ea_8857_f0d4e2f89142row6_col0\" class=\"data row6 col0\" >Placement - Weekday (Mo = 1)</td>\n",
       "                        <td id=\"T_b0fe7222_9db0_11ea_8857_f0d4e2f89142row6_col1\" class=\"data row6 col1\" >Placement - Weekday (Monday = 1)</td>\n",
       "            </tr>\n",
       "            <tr>\n",
       "                        <th id=\"T_b0fe7222_9db0_11ea_8857_f0d4e2f89142level0_row7\" class=\"row_heading level0 row7\" >7</th>\n",
       "                        <td id=\"T_b0fe7222_9db0_11ea_8857_f0d4e2f89142row7_col0\" class=\"data row7 col0\" >Placement - Time</td>\n",
       "                        <td id=\"T_b0fe7222_9db0_11ea_8857_f0d4e2f89142row7_col1\" class=\"data row7 col1\" >Placement - Time - Time of day the order was placed</td>\n",
       "            </tr>\n",
       "            <tr>\n",
       "                        <th id=\"T_b0fe7222_9db0_11ea_8857_f0d4e2f89142level0_row8\" class=\"row_heading level0 row8\" >8</th>\n",
       "                        <td id=\"T_b0fe7222_9db0_11ea_8857_f0d4e2f89142row8_col0\" class=\"data row8 col0\" >Confirmation - Day of Month</td>\n",
       "                        <td id=\"T_b0fe7222_9db0_11ea_8857_f0d4e2f89142row8_col1\" class=\"data row8 col1\" >Confirmation - Day of Month i.e 1-31</td>\n",
       "            </tr>\n",
       "            <tr>\n",
       "                        <th id=\"T_b0fe7222_9db0_11ea_8857_f0d4e2f89142level0_row9\" class=\"row_heading level0 row9\" >9</th>\n",
       "                        <td id=\"T_b0fe7222_9db0_11ea_8857_f0d4e2f89142row9_col0\" class=\"data row9 col0\" >Confirmation - Weekday (Mo = 1)</td>\n",
       "                        <td id=\"T_b0fe7222_9db0_11ea_8857_f0d4e2f89142row9_col1\" class=\"data row9 col1\" >Confirmation - Weekday (Monday = 1)</td>\n",
       "            </tr>\n",
       "            <tr>\n",
       "                        <th id=\"T_b0fe7222_9db0_11ea_8857_f0d4e2f89142level0_row10\" class=\"row_heading level0 row10\" >10</th>\n",
       "                        <td id=\"T_b0fe7222_9db0_11ea_8857_f0d4e2f89142row10_col0\" class=\"data row10 col0\" >Confirmation - Time</td>\n",
       "                        <td id=\"T_b0fe7222_9db0_11ea_8857_f0d4e2f89142row10_col1\" class=\"data row10 col1\" >Confirmation - Time - Time of day the order was confirmed by a rider</td>\n",
       "            </tr>\n",
       "            <tr>\n",
       "                        <th id=\"T_b0fe7222_9db0_11ea_8857_f0d4e2f89142level0_row11\" class=\"row_heading level0 row11\" >11</th>\n",
       "                        <td id=\"T_b0fe7222_9db0_11ea_8857_f0d4e2f89142row11_col0\" class=\"data row11 col0\" >Arrival at Pickup - Day of Month</td>\n",
       "                        <td id=\"T_b0fe7222_9db0_11ea_8857_f0d4e2f89142row11_col1\" class=\"data row11 col1\" >Arrival at Pickup - Day of Month i.e 1-31</td>\n",
       "            </tr>\n",
       "            <tr>\n",
       "                        <th id=\"T_b0fe7222_9db0_11ea_8857_f0d4e2f89142level0_row12\" class=\"row_heading level0 row12\" >12</th>\n",
       "                        <td id=\"T_b0fe7222_9db0_11ea_8857_f0d4e2f89142row12_col0\" class=\"data row12 col0\" >Arrival at Pickup - Weekday (Mo = 1)</td>\n",
       "                        <td id=\"T_b0fe7222_9db0_11ea_8857_f0d4e2f89142row12_col1\" class=\"data row12 col1\" >Arrival at Pickup - Weekday (Monday = 1)</td>\n",
       "            </tr>\n",
       "            <tr>\n",
       "                        <th id=\"T_b0fe7222_9db0_11ea_8857_f0d4e2f89142level0_row13\" class=\"row_heading level0 row13\" >13</th>\n",
       "                        <td id=\"T_b0fe7222_9db0_11ea_8857_f0d4e2f89142row13_col0\" class=\"data row13 col0\" >Arrival at Pickup - Time</td>\n",
       "                        <td id=\"T_b0fe7222_9db0_11ea_8857_f0d4e2f89142row13_col1\" class=\"data row13 col1\" >Time of day the the rider arrived at the location to pick up the order - as marked by the rider through the Sendy application</td>\n",
       "            </tr>\n",
       "            <tr>\n",
       "                        <th id=\"T_b0fe7222_9db0_11ea_8857_f0d4e2f89142level0_row14\" class=\"row_heading level0 row14\" >14</th>\n",
       "                        <td id=\"T_b0fe7222_9db0_11ea_8857_f0d4e2f89142row14_col0\" class=\"data row14 col0\" >Pickup - Day of Month</td>\n",
       "                        <td id=\"T_b0fe7222_9db0_11ea_8857_f0d4e2f89142row14_col1\" class=\"data row14 col1\" >Pickup - Day of Month i.e 1-31</td>\n",
       "            </tr>\n",
       "            <tr>\n",
       "                        <th id=\"T_b0fe7222_9db0_11ea_8857_f0d4e2f89142level0_row15\" class=\"row_heading level0 row15\" >15</th>\n",
       "                        <td id=\"T_b0fe7222_9db0_11ea_8857_f0d4e2f89142row15_col0\" class=\"data row15 col0\" >Pickup - Weekday (Mo = 1)</td>\n",
       "                        <td id=\"T_b0fe7222_9db0_11ea_8857_f0d4e2f89142row15_col1\" class=\"data row15 col1\" >Pickup - Weekday (Monday = 1)</td>\n",
       "            </tr>\n",
       "            <tr>\n",
       "                        <th id=\"T_b0fe7222_9db0_11ea_8857_f0d4e2f89142level0_row16\" class=\"row_heading level0 row16\" >16</th>\n",
       "                        <td id=\"T_b0fe7222_9db0_11ea_8857_f0d4e2f89142row16_col0\" class=\"data row16 col0\" >Pickup - Time</td>\n",
       "                        <td id=\"T_b0fe7222_9db0_11ea_8857_f0d4e2f89142row16_col1\" class=\"data row16 col1\" >Pickup - Time - Time of day the the rider picked up the order - as marked by the rider through the Sendy application</td>\n",
       "            </tr>\n",
       "            <tr>\n",
       "                        <th id=\"T_b0fe7222_9db0_11ea_8857_f0d4e2f89142level0_row17\" class=\"row_heading level0 row17\" >17</th>\n",
       "                        <td id=\"T_b0fe7222_9db0_11ea_8857_f0d4e2f89142row17_col0\" class=\"data row17 col0\" >Arrival at Destination - Day of Month</td>\n",
       "                        <td id=\"T_b0fe7222_9db0_11ea_8857_f0d4e2f89142row17_col1\" class=\"data row17 col1\" >Arrival at Delivery - Day of Month i.e 1-31</td>\n",
       "            </tr>\n",
       "            <tr>\n",
       "                        <th id=\"T_b0fe7222_9db0_11ea_8857_f0d4e2f89142level0_row18\" class=\"row_heading level0 row18\" >18</th>\n",
       "                        <td id=\"T_b0fe7222_9db0_11ea_8857_f0d4e2f89142row18_col0\" class=\"data row18 col0\" >Arrival at Destination - Weekday (Mo = 1)</td>\n",
       "                        <td id=\"T_b0fe7222_9db0_11ea_8857_f0d4e2f89142row18_col1\" class=\"data row18 col1\" >Arrival at Delivery - Weekday (Monday = 1)</td>\n",
       "            </tr>\n",
       "            <tr>\n",
       "                        <th id=\"T_b0fe7222_9db0_11ea_8857_f0d4e2f89142level0_row19\" class=\"row_heading level0 row19\" >19</th>\n",
       "                        <td id=\"T_b0fe7222_9db0_11ea_8857_f0d4e2f89142row19_col0\" class=\"data row19 col0\" >Arrival at Destination - Time</td>\n",
       "                        <td id=\"T_b0fe7222_9db0_11ea_8857_f0d4e2f89142row19_col1\" class=\"data row19 col1\" >Arrival at Delivery Time - Time of day the rider arrived at the destination to deliver the order - as marked by the rider through the Sendy application</td>\n",
       "            </tr>\n",
       "            <tr>\n",
       "                        <th id=\"T_b0fe7222_9db0_11ea_8857_f0d4e2f89142level0_row20\" class=\"row_heading level0 row20\" >20</th>\n",
       "                        <td id=\"T_b0fe7222_9db0_11ea_8857_f0d4e2f89142row20_col0\" class=\"data row20 col0\" >Distance (KM)</td>\n",
       "                        <td id=\"T_b0fe7222_9db0_11ea_8857_f0d4e2f89142row20_col1\" class=\"data row20 col1\" >The distance from Pickup to Destination</td>\n",
       "            </tr>\n",
       "            <tr>\n",
       "                        <th id=\"T_b0fe7222_9db0_11ea_8857_f0d4e2f89142level0_row21\" class=\"row_heading level0 row21\" >21</th>\n",
       "                        <td id=\"T_b0fe7222_9db0_11ea_8857_f0d4e2f89142row21_col0\" class=\"data row21 col0\" >Temperature</td>\n",
       "                        <td id=\"T_b0fe7222_9db0_11ea_8857_f0d4e2f89142row21_col1\" class=\"data row21 col1\" >Temperature at the time of order placement in Degrees Celsius (measured every three hours)</td>\n",
       "            </tr>\n",
       "            <tr>\n",
       "                        <th id=\"T_b0fe7222_9db0_11ea_8857_f0d4e2f89142level0_row22\" class=\"row_heading level0 row22\" >22</th>\n",
       "                        <td id=\"T_b0fe7222_9db0_11ea_8857_f0d4e2f89142row22_col0\" class=\"data row22 col0\" >Precipitation in millimeters</td>\n",
       "                        <td id=\"T_b0fe7222_9db0_11ea_8857_f0d4e2f89142row22_col1\" class=\"data row22 col1\" > Precipitation at the time of order placement (measured every three hours)</td>\n",
       "            </tr>\n",
       "            <tr>\n",
       "                        <th id=\"T_b0fe7222_9db0_11ea_8857_f0d4e2f89142level0_row23\" class=\"row_heading level0 row23\" >23</th>\n",
       "                        <td id=\"T_b0fe7222_9db0_11ea_8857_f0d4e2f89142row23_col0\" class=\"data row23 col0\" >Pickup Lat</td>\n",
       "                        <td id=\"T_b0fe7222_9db0_11ea_8857_f0d4e2f89142row23_col1\" class=\"data row23 col1\" >Latitude of pick up location</td>\n",
       "            </tr>\n",
       "            <tr>\n",
       "                        <th id=\"T_b0fe7222_9db0_11ea_8857_f0d4e2f89142level0_row24\" class=\"row_heading level0 row24\" >24</th>\n",
       "                        <td id=\"T_b0fe7222_9db0_11ea_8857_f0d4e2f89142row24_col0\" class=\"data row24 col0\" >Pickup Long</td>\n",
       "                        <td id=\"T_b0fe7222_9db0_11ea_8857_f0d4e2f89142row24_col1\" class=\"data row24 col1\" >Longitude of pick up location</td>\n",
       "            </tr>\n",
       "            <tr>\n",
       "                        <th id=\"T_b0fe7222_9db0_11ea_8857_f0d4e2f89142level0_row25\" class=\"row_heading level0 row25\" >25</th>\n",
       "                        <td id=\"T_b0fe7222_9db0_11ea_8857_f0d4e2f89142row25_col0\" class=\"data row25 col0\" >Destination Lat</td>\n",
       "                        <td id=\"T_b0fe7222_9db0_11ea_8857_f0d4e2f89142row25_col1\" class=\"data row25 col1\" >Latitude of delivery location</td>\n",
       "            </tr>\n",
       "            <tr>\n",
       "                        <th id=\"T_b0fe7222_9db0_11ea_8857_f0d4e2f89142level0_row26\" class=\"row_heading level0 row26\" >26</th>\n",
       "                        <td id=\"T_b0fe7222_9db0_11ea_8857_f0d4e2f89142row26_col0\" class=\"data row26 col0\" >Destination Long</td>\n",
       "                        <td id=\"T_b0fe7222_9db0_11ea_8857_f0d4e2f89142row26_col1\" class=\"data row26 col1\" >Longitude of delivery location</td>\n",
       "            </tr>\n",
       "            <tr>\n",
       "                        <th id=\"T_b0fe7222_9db0_11ea_8857_f0d4e2f89142level0_row27\" class=\"row_heading level0 row27\" >27</th>\n",
       "                        <td id=\"T_b0fe7222_9db0_11ea_8857_f0d4e2f89142row27_col0\" class=\"data row27 col0\" >Rider Id</td>\n",
       "                        <td id=\"T_b0fe7222_9db0_11ea_8857_f0d4e2f89142row27_col1\" class=\"data row27 col1\" > ID of the Rider who accepted the order</td>\n",
       "            </tr>\n",
       "            <tr>\n",
       "                        <th id=\"T_b0fe7222_9db0_11ea_8857_f0d4e2f89142level0_row28\" class=\"row_heading level0 row28\" >28</th>\n",
       "                        <td id=\"T_b0fe7222_9db0_11ea_8857_f0d4e2f89142row28_col0\" class=\"data row28 col0\" >Time from Pickup to Arrival</td>\n",
       "                        <td id=\"T_b0fe7222_9db0_11ea_8857_f0d4e2f89142row28_col1\" class=\"data row28 col1\" >Time in seconds between 'Pickup' and 'Arrival at Destination' - calculated from the columns for the purpose of facilitating the task</td>\n",
       "            </tr>\n",
       "            <tr>\n",
       "                        <th id=\"T_b0fe7222_9db0_11ea_8857_f0d4e2f89142level0_row29\" class=\"row_heading level0 row29\" >29</th>\n",
       "                        <td id=\"T_b0fe7222_9db0_11ea_8857_f0d4e2f89142row29_col0\" class=\"data row29 col0\" >nan</td>\n",
       "                        <td id=\"T_b0fe7222_9db0_11ea_8857_f0d4e2f89142row29_col1\" class=\"data row29 col1\" >nan</td>\n",
       "            </tr>\n",
       "            <tr>\n",
       "                        <th id=\"T_b0fe7222_9db0_11ea_8857_f0d4e2f89142level0_row30\" class=\"row_heading level0 row30\" >30</th>\n",
       "                        <td id=\"T_b0fe7222_9db0_11ea_8857_f0d4e2f89142row30_col0\" class=\"data row30 col0\" >Rider Metrics</td>\n",
       "                        <td id=\"T_b0fe7222_9db0_11ea_8857_f0d4e2f89142row30_col1\" class=\"data row30 col1\" >nan</td>\n",
       "            </tr>\n",
       "            <tr>\n",
       "                        <th id=\"T_b0fe7222_9db0_11ea_8857_f0d4e2f89142level0_row31\" class=\"row_heading level0 row31\" >31</th>\n",
       "                        <td id=\"T_b0fe7222_9db0_11ea_8857_f0d4e2f89142row31_col0\" class=\"data row31 col0\" >Rider Id</td>\n",
       "                        <td id=\"T_b0fe7222_9db0_11ea_8857_f0d4e2f89142row31_col1\" class=\"data row31 col1\" >Unique number identifying the rider (same as in order details)</td>\n",
       "            </tr>\n",
       "            <tr>\n",
       "                        <th id=\"T_b0fe7222_9db0_11ea_8857_f0d4e2f89142level0_row32\" class=\"row_heading level0 row32\" >32</th>\n",
       "                        <td id=\"T_b0fe7222_9db0_11ea_8857_f0d4e2f89142row32_col0\" class=\"data row32 col0\" >No_Of_Orders</td>\n",
       "                        <td id=\"T_b0fe7222_9db0_11ea_8857_f0d4e2f89142row32_col1\" class=\"data row32 col1\" > Number of Orders the rider has delivered</td>\n",
       "            </tr>\n",
       "            <tr>\n",
       "                        <th id=\"T_b0fe7222_9db0_11ea_8857_f0d4e2f89142level0_row33\" class=\"row_heading level0 row33\" >33</th>\n",
       "                        <td id=\"T_b0fe7222_9db0_11ea_8857_f0d4e2f89142row33_col0\" class=\"data row33 col0\" >Age</td>\n",
       "                        <td id=\"T_b0fe7222_9db0_11ea_8857_f0d4e2f89142row33_col1\" class=\"data row33 col1\" >Number of days since the rider delivered the first order</td>\n",
       "            </tr>\n",
       "            <tr>\n",
       "                        <th id=\"T_b0fe7222_9db0_11ea_8857_f0d4e2f89142level0_row34\" class=\"row_heading level0 row34\" >34</th>\n",
       "                        <td id=\"T_b0fe7222_9db0_11ea_8857_f0d4e2f89142row34_col0\" class=\"data row34 col0\" >Average_Rating</td>\n",
       "                        <td id=\"T_b0fe7222_9db0_11ea_8857_f0d4e2f89142row34_col1\" class=\"data row34 col1\" >Average rating of the rider</td>\n",
       "            </tr>\n",
       "            <tr>\n",
       "                        <th id=\"T_b0fe7222_9db0_11ea_8857_f0d4e2f89142level0_row35\" class=\"row_heading level0 row35\" >35</th>\n",
       "                        <td id=\"T_b0fe7222_9db0_11ea_8857_f0d4e2f89142row35_col0\" class=\"data row35 col0\" >No_of_Ratings</td>\n",
       "                        <td id=\"T_b0fe7222_9db0_11ea_8857_f0d4e2f89142row35_col1\" class=\"data row35 col1\" > Number of ratings the rider has received. Rating an order is optional for the customer.</td>\n",
       "            </tr>\n",
       "    </tbody></table>"
      ],
      "text/plain": [
       "<pandas.io.formats.style.Styler at 0x2712e1f7bc8>"
      ]
     },
     "execution_count": 15,
     "metadata": {},
     "output_type": "execute_result"
    }
   ],
   "source": [
    "var_definitions = pd.read_csv(\"https://raw.githubusercontent.com/thembeks/Regression-Sendy-Logistics-Challenge-Team-14/Predict/VariableDefinitions.csv\", names=['Column_Name', 'Description'])\n",
    "var_definitions.style.set_properties(subset=['Description'], **{'width': '600px'})"
   ]
  },
  {
   "cell_type": "code",
   "execution_count": null,
   "metadata": {
    "hidden": true
   },
   "outputs": [],
   "source": []
  },
  {
   "cell_type": "markdown",
   "metadata": {
    "heading_collapsed": true
   },
   "source": [
    "##### Rider dataframe"
   ]
  },
  {
   "cell_type": "code",
   "execution_count": 16,
   "metadata": {
    "hidden": true
   },
   "outputs": [
    {
     "data": {
      "text/html": [
       "<div>\n",
       "<style scoped>\n",
       "    .dataframe tbody tr th:only-of-type {\n",
       "        vertical-align: middle;\n",
       "    }\n",
       "\n",
       "    .dataframe tbody tr th {\n",
       "        vertical-align: top;\n",
       "    }\n",
       "\n",
       "    .dataframe thead th {\n",
       "        text-align: right;\n",
       "    }\n",
       "</style>\n",
       "<table border=\"1\" class=\"dataframe\">\n",
       "  <thead>\n",
       "    <tr style=\"text-align: right;\">\n",
       "      <th></th>\n",
       "      <th>Rider_Id</th>\n",
       "      <th>No_Of_Orders</th>\n",
       "      <th>Age</th>\n",
       "      <th>Average_Rating</th>\n",
       "      <th>No_of_Ratings</th>\n",
       "    </tr>\n",
       "  </thead>\n",
       "  <tbody>\n",
       "    <tr>\n",
       "      <td>0</td>\n",
       "      <td>Rider_Id_396</td>\n",
       "      <td>2946</td>\n",
       "      <td>2298</td>\n",
       "      <td>14.0</td>\n",
       "      <td>1159</td>\n",
       "    </tr>\n",
       "    <tr>\n",
       "      <td>1</td>\n",
       "      <td>Rider_Id_479</td>\n",
       "      <td>360</td>\n",
       "      <td>951</td>\n",
       "      <td>13.5</td>\n",
       "      <td>176</td>\n",
       "    </tr>\n",
       "    <tr>\n",
       "      <td>2</td>\n",
       "      <td>Rider_Id_648</td>\n",
       "      <td>1746</td>\n",
       "      <td>821</td>\n",
       "      <td>14.3</td>\n",
       "      <td>466</td>\n",
       "    </tr>\n",
       "    <tr>\n",
       "      <td>3</td>\n",
       "      <td>Rider_Id_753</td>\n",
       "      <td>314</td>\n",
       "      <td>980</td>\n",
       "      <td>12.5</td>\n",
       "      <td>75</td>\n",
       "    </tr>\n",
       "    <tr>\n",
       "      <td>4</td>\n",
       "      <td>Rider_Id_335</td>\n",
       "      <td>536</td>\n",
       "      <td>1113</td>\n",
       "      <td>13.7</td>\n",
       "      <td>156</td>\n",
       "    </tr>\n",
       "  </tbody>\n",
       "</table>\n",
       "</div>"
      ],
      "text/plain": [
       "       Rider_Id  No_Of_Orders   Age  Average_Rating  No_of_Ratings\n",
       "0  Rider_Id_396          2946  2298            14.0           1159\n",
       "1  Rider_Id_479           360   951            13.5            176\n",
       "2  Rider_Id_648          1746   821            14.3            466\n",
       "3  Rider_Id_753           314   980            12.5             75\n",
       "4  Rider_Id_335           536  1113            13.7            156"
      ]
     },
     "execution_count": 16,
     "metadata": {},
     "output_type": "execute_result"
    }
   ],
   "source": [
    "rider= pd.read_csv('https://raw.githubusercontent.com/thembeks/Regression-Sendy-Logistics-Challenge-Team-14/Predict/Riders.csv')\n",
    "rider.columns= [col.replace(' ', '_') for col in rider.columns]\n",
    "rider.head()"
   ]
  },
  {
   "cell_type": "code",
   "execution_count": 17,
   "metadata": {
    "hidden": true
   },
   "outputs": [
    {
     "name": "stdout",
     "output_type": "stream",
     "text": [
      "<class 'pandas.core.frame.DataFrame'>\n",
      "RangeIndex: 960 entries, 0 to 959\n",
      "Data columns (total 5 columns):\n",
      "Rider_Id          960 non-null object\n",
      "No_Of_Orders      960 non-null int64\n",
      "Age               960 non-null int64\n",
      "Average_Rating    960 non-null float64\n",
      "No_of_Ratings     960 non-null int64\n",
      "dtypes: float64(1), int64(3), object(1)\n",
      "memory usage: 37.6+ KB\n"
     ]
    },
    {
     "data": {
      "text/plain": [
       "(960, 5)"
      ]
     },
     "execution_count": 17,
     "metadata": {},
     "output_type": "execute_result"
    }
   ],
   "source": [
    "rider.info()\n",
    "rider.shape"
   ]
  },
  {
   "cell_type": "code",
   "execution_count": null,
   "metadata": {
    "hidden": true
   },
   "outputs": [],
   "source": []
  },
  {
   "cell_type": "markdown",
   "metadata": {
    "heading_collapsed": true
   },
   "source": [
    "##### Sample Submissions dataframe"
   ]
  },
  {
   "cell_type": "code",
   "execution_count": 18,
   "metadata": {
    "hidden": true
   },
   "outputs": [
    {
     "data": {
      "text/html": [
       "<div>\n",
       "<style scoped>\n",
       "    .dataframe tbody tr th:only-of-type {\n",
       "        vertical-align: middle;\n",
       "    }\n",
       "\n",
       "    .dataframe tbody tr th {\n",
       "        vertical-align: top;\n",
       "    }\n",
       "\n",
       "    .dataframe thead th {\n",
       "        text-align: right;\n",
       "    }\n",
       "</style>\n",
       "<table border=\"1\" class=\"dataframe\">\n",
       "  <thead>\n",
       "    <tr style=\"text-align: right;\">\n",
       "      <th></th>\n",
       "      <th>Order_No</th>\n",
       "      <th>Time_from_Pickup_to_Arrival</th>\n",
       "    </tr>\n",
       "  </thead>\n",
       "  <tbody>\n",
       "    <tr>\n",
       "      <td>0</td>\n",
       "      <td>Order_No_19248</td>\n",
       "      <td>567.0</td>\n",
       "    </tr>\n",
       "    <tr>\n",
       "      <td>1</td>\n",
       "      <td>Order_No_12736</td>\n",
       "      <td>4903.0</td>\n",
       "    </tr>\n",
       "    <tr>\n",
       "      <td>2</td>\n",
       "      <td>Order_No_768</td>\n",
       "      <td>5649.0</td>\n",
       "    </tr>\n",
       "    <tr>\n",
       "      <td>3</td>\n",
       "      <td>Order_No_15332</td>\n",
       "      <td>NaN</td>\n",
       "    </tr>\n",
       "    <tr>\n",
       "      <td>4</td>\n",
       "      <td>Order_No_21373</td>\n",
       "      <td>NaN</td>\n",
       "    </tr>\n",
       "  </tbody>\n",
       "</table>\n",
       "</div>"
      ],
      "text/plain": [
       "         Order_No  Time_from_Pickup_to_Arrival\n",
       "0  Order_No_19248                        567.0\n",
       "1  Order_No_12736                       4903.0\n",
       "2    Order_No_768                       5649.0\n",
       "3  Order_No_15332                          NaN\n",
       "4  Order_No_21373                          NaN"
      ]
     },
     "execution_count": 18,
     "metadata": {},
     "output_type": "execute_result"
    }
   ],
   "source": [
    "sample_submission= pd.read_csv('https://raw.githubusercontent.com/thembeks/Regression-Sendy-Logistics-Challenge-Team-14/Predict/SampleSubmission.csv')\n",
    "sample_submission.columns= [col.replace(' ', '_') for col in sample_submission.columns]\n",
    "sample_submission.head()"
   ]
  },
  {
   "cell_type": "code",
   "execution_count": 19,
   "metadata": {
    "hidden": true
   },
   "outputs": [
    {
     "name": "stdout",
     "output_type": "stream",
     "text": [
      "<class 'pandas.core.frame.DataFrame'>\n",
      "RangeIndex: 7068 entries, 0 to 7067\n",
      "Data columns (total 2 columns):\n",
      "Order_No                       7068 non-null object\n",
      "Time_from_Pickup_to_Arrival    3 non-null float64\n",
      "dtypes: float64(1), object(1)\n",
      "memory usage: 110.6+ KB\n"
     ]
    },
    {
     "data": {
      "text/plain": [
       "(7068, 2)"
      ]
     },
     "execution_count": 19,
     "metadata": {},
     "output_type": "execute_result"
    }
   ],
   "source": [
    "sample_submission.info()\n",
    "sample_submission.shape"
   ]
  },
  {
   "cell_type": "code",
   "execution_count": null,
   "metadata": {
    "hidden": true
   },
   "outputs": [],
   "source": []
  },
  {
   "cell_type": "markdown",
   "metadata": {
    "heading_collapsed": true
   },
   "source": [
    "##### Training set dataframe"
   ]
  },
  {
   "cell_type": "code",
   "execution_count": 20,
   "metadata": {
    "hidden": true
   },
   "outputs": [
    {
     "data": {
      "text/html": [
       "<div>\n",
       "<style scoped>\n",
       "    .dataframe tbody tr th:only-of-type {\n",
       "        vertical-align: middle;\n",
       "    }\n",
       "\n",
       "    .dataframe tbody tr th {\n",
       "        vertical-align: top;\n",
       "    }\n",
       "\n",
       "    .dataframe thead th {\n",
       "        text-align: right;\n",
       "    }\n",
       "</style>\n",
       "<table border=\"1\" class=\"dataframe\">\n",
       "  <thead>\n",
       "    <tr style=\"text-align: right;\">\n",
       "      <th></th>\n",
       "      <th>Order_No</th>\n",
       "      <th>User_Id</th>\n",
       "      <th>Vehicle_Type</th>\n",
       "      <th>Platform_Type</th>\n",
       "      <th>Personal_or_Business</th>\n",
       "      <th>Placement_-_Day_of_Month</th>\n",
       "      <th>Placement_-_Weekday_(Mo_=_1)</th>\n",
       "      <th>Placement_-_Time</th>\n",
       "      <th>Confirmation_-_Day_of_Month</th>\n",
       "      <th>Confirmation_-_Weekday_(Mo_=_1)</th>\n",
       "      <th>...</th>\n",
       "      <th>Arrival_at_Destination_-_Time</th>\n",
       "      <th>Distance_(KM)</th>\n",
       "      <th>Temperature</th>\n",
       "      <th>Precipitation_in_millimeters</th>\n",
       "      <th>Pickup_Lat</th>\n",
       "      <th>Pickup_Long</th>\n",
       "      <th>Destination_Lat</th>\n",
       "      <th>Destination_Long</th>\n",
       "      <th>Rider_Id</th>\n",
       "      <th>Time_from_Pickup_to_Arrival</th>\n",
       "    </tr>\n",
       "  </thead>\n",
       "  <tbody>\n",
       "    <tr>\n",
       "      <td>0</td>\n",
       "      <td>Order_No_4211</td>\n",
       "      <td>User_Id_633</td>\n",
       "      <td>Bike</td>\n",
       "      <td>3</td>\n",
       "      <td>Business</td>\n",
       "      <td>9</td>\n",
       "      <td>5</td>\n",
       "      <td>9:35:46 AM</td>\n",
       "      <td>9</td>\n",
       "      <td>5</td>\n",
       "      <td>...</td>\n",
       "      <td>10:39:55 AM</td>\n",
       "      <td>4</td>\n",
       "      <td>20.4</td>\n",
       "      <td>NaN</td>\n",
       "      <td>-1.317755</td>\n",
       "      <td>36.830370</td>\n",
       "      <td>-1.300406</td>\n",
       "      <td>36.829741</td>\n",
       "      <td>Rider_Id_432</td>\n",
       "      <td>745</td>\n",
       "    </tr>\n",
       "    <tr>\n",
       "      <td>1</td>\n",
       "      <td>Order_No_25375</td>\n",
       "      <td>User_Id_2285</td>\n",
       "      <td>Bike</td>\n",
       "      <td>3</td>\n",
       "      <td>Personal</td>\n",
       "      <td>12</td>\n",
       "      <td>5</td>\n",
       "      <td>11:16:16 AM</td>\n",
       "      <td>12</td>\n",
       "      <td>5</td>\n",
       "      <td>...</td>\n",
       "      <td>12:17:22 PM</td>\n",
       "      <td>16</td>\n",
       "      <td>26.4</td>\n",
       "      <td>NaN</td>\n",
       "      <td>-1.351453</td>\n",
       "      <td>36.899315</td>\n",
       "      <td>-1.295004</td>\n",
       "      <td>36.814358</td>\n",
       "      <td>Rider_Id_856</td>\n",
       "      <td>1993</td>\n",
       "    </tr>\n",
       "    <tr>\n",
       "      <td>2</td>\n",
       "      <td>Order_No_1899</td>\n",
       "      <td>User_Id_265</td>\n",
       "      <td>Bike</td>\n",
       "      <td>3</td>\n",
       "      <td>Business</td>\n",
       "      <td>30</td>\n",
       "      <td>2</td>\n",
       "      <td>12:39:25 PM</td>\n",
       "      <td>30</td>\n",
       "      <td>2</td>\n",
       "      <td>...</td>\n",
       "      <td>1:00:38 PM</td>\n",
       "      <td>3</td>\n",
       "      <td>NaN</td>\n",
       "      <td>NaN</td>\n",
       "      <td>-1.308284</td>\n",
       "      <td>36.843419</td>\n",
       "      <td>-1.300921</td>\n",
       "      <td>36.828195</td>\n",
       "      <td>Rider_Id_155</td>\n",
       "      <td>455</td>\n",
       "    </tr>\n",
       "    <tr>\n",
       "      <td>3</td>\n",
       "      <td>Order_No_9336</td>\n",
       "      <td>User_Id_1402</td>\n",
       "      <td>Bike</td>\n",
       "      <td>3</td>\n",
       "      <td>Business</td>\n",
       "      <td>15</td>\n",
       "      <td>5</td>\n",
       "      <td>9:25:34 AM</td>\n",
       "      <td>15</td>\n",
       "      <td>5</td>\n",
       "      <td>...</td>\n",
       "      <td>10:05:27 AM</td>\n",
       "      <td>9</td>\n",
       "      <td>19.2</td>\n",
       "      <td>NaN</td>\n",
       "      <td>-1.281301</td>\n",
       "      <td>36.832396</td>\n",
       "      <td>-1.257147</td>\n",
       "      <td>36.795063</td>\n",
       "      <td>Rider_Id_855</td>\n",
       "      <td>1341</td>\n",
       "    </tr>\n",
       "    <tr>\n",
       "      <td>4</td>\n",
       "      <td>Order_No_27883</td>\n",
       "      <td>User_Id_1737</td>\n",
       "      <td>Bike</td>\n",
       "      <td>1</td>\n",
       "      <td>Personal</td>\n",
       "      <td>13</td>\n",
       "      <td>1</td>\n",
       "      <td>9:55:18 AM</td>\n",
       "      <td>13</td>\n",
       "      <td>1</td>\n",
       "      <td>...</td>\n",
       "      <td>10:25:37 AM</td>\n",
       "      <td>9</td>\n",
       "      <td>15.4</td>\n",
       "      <td>NaN</td>\n",
       "      <td>-1.266597</td>\n",
       "      <td>36.792118</td>\n",
       "      <td>-1.295041</td>\n",
       "      <td>36.809817</td>\n",
       "      <td>Rider_Id_770</td>\n",
       "      <td>1214</td>\n",
       "    </tr>\n",
       "  </tbody>\n",
       "</table>\n",
       "<p>5 rows × 29 columns</p>\n",
       "</div>"
      ],
      "text/plain": [
       "         Order_No       User_Id Vehicle_Type  Platform_Type  \\\n",
       "0   Order_No_4211   User_Id_633         Bike              3   \n",
       "1  Order_No_25375  User_Id_2285         Bike              3   \n",
       "2   Order_No_1899   User_Id_265         Bike              3   \n",
       "3   Order_No_9336  User_Id_1402         Bike              3   \n",
       "4  Order_No_27883  User_Id_1737         Bike              1   \n",
       "\n",
       "  Personal_or_Business  Placement_-_Day_of_Month  \\\n",
       "0             Business                         9   \n",
       "1             Personal                        12   \n",
       "2             Business                        30   \n",
       "3             Business                        15   \n",
       "4             Personal                        13   \n",
       "\n",
       "   Placement_-_Weekday_(Mo_=_1) Placement_-_Time  Confirmation_-_Day_of_Month  \\\n",
       "0                             5       9:35:46 AM                            9   \n",
       "1                             5      11:16:16 AM                           12   \n",
       "2                             2      12:39:25 PM                           30   \n",
       "3                             5       9:25:34 AM                           15   \n",
       "4                             1       9:55:18 AM                           13   \n",
       "\n",
       "   Confirmation_-_Weekday_(Mo_=_1)  ... Arrival_at_Destination_-_Time  \\\n",
       "0                                5  ...                   10:39:55 AM   \n",
       "1                                5  ...                   12:17:22 PM   \n",
       "2                                2  ...                    1:00:38 PM   \n",
       "3                                5  ...                   10:05:27 AM   \n",
       "4                                1  ...                   10:25:37 AM   \n",
       "\n",
       "   Distance_(KM)  Temperature Precipitation_in_millimeters  Pickup_Lat  \\\n",
       "0              4         20.4                          NaN   -1.317755   \n",
       "1             16         26.4                          NaN   -1.351453   \n",
       "2              3          NaN                          NaN   -1.308284   \n",
       "3              9         19.2                          NaN   -1.281301   \n",
       "4              9         15.4                          NaN   -1.266597   \n",
       "\n",
       "   Pickup_Long Destination_Lat  Destination_Long      Rider_Id  \\\n",
       "0    36.830370       -1.300406         36.829741  Rider_Id_432   \n",
       "1    36.899315       -1.295004         36.814358  Rider_Id_856   \n",
       "2    36.843419       -1.300921         36.828195  Rider_Id_155   \n",
       "3    36.832396       -1.257147         36.795063  Rider_Id_855   \n",
       "4    36.792118       -1.295041         36.809817  Rider_Id_770   \n",
       "\n",
       "  Time_from_Pickup_to_Arrival  \n",
       "0                         745  \n",
       "1                        1993  \n",
       "2                         455  \n",
       "3                        1341  \n",
       "4                        1214  \n",
       "\n",
       "[5 rows x 29 columns]"
      ]
     },
     "execution_count": 20,
     "metadata": {},
     "output_type": "execute_result"
    }
   ],
   "source": [
    "train= pd.read_csv('https://raw.githubusercontent.com/thembeks/Regression-Sendy-Logistics-Challenge-Team-14/Predict/Train.csv')\n",
    "train.columns= [col.replace(' ', '_') for col in train.columns]\n",
    "train.head()"
   ]
  },
  {
   "cell_type": "code",
   "execution_count": 21,
   "metadata": {
    "hidden": true
   },
   "outputs": [
    {
     "name": "stdout",
     "output_type": "stream",
     "text": [
      "<class 'pandas.core.frame.DataFrame'>\n",
      "RangeIndex: 21201 entries, 0 to 21200\n",
      "Data columns (total 29 columns):\n",
      "Order_No                                     21201 non-null object\n",
      "User_Id                                      21201 non-null object\n",
      "Vehicle_Type                                 21201 non-null object\n",
      "Platform_Type                                21201 non-null int64\n",
      "Personal_or_Business                         21201 non-null object\n",
      "Placement_-_Day_of_Month                     21201 non-null int64\n",
      "Placement_-_Weekday_(Mo_=_1)                 21201 non-null int64\n",
      "Placement_-_Time                             21201 non-null object\n",
      "Confirmation_-_Day_of_Month                  21201 non-null int64\n",
      "Confirmation_-_Weekday_(Mo_=_1)              21201 non-null int64\n",
      "Confirmation_-_Time                          21201 non-null object\n",
      "Arrival_at_Pickup_-_Day_of_Month             21201 non-null int64\n",
      "Arrival_at_Pickup_-_Weekday_(Mo_=_1)         21201 non-null int64\n",
      "Arrival_at_Pickup_-_Time                     21201 non-null object\n",
      "Pickup_-_Day_of_Month                        21201 non-null int64\n",
      "Pickup_-_Weekday_(Mo_=_1)                    21201 non-null int64\n",
      "Pickup_-_Time                                21201 non-null object\n",
      "Arrival_at_Destination_-_Day_of_Month        21201 non-null int64\n",
      "Arrival_at_Destination_-_Weekday_(Mo_=_1)    21201 non-null int64\n",
      "Arrival_at_Destination_-_Time                21201 non-null object\n",
      "Distance_(KM)                                21201 non-null int64\n",
      "Temperature                                  16835 non-null float64\n",
      "Precipitation_in_millimeters                 552 non-null float64\n",
      "Pickup_Lat                                   21201 non-null float64\n",
      "Pickup_Long                                  21201 non-null float64\n",
      "Destination_Lat                              21201 non-null float64\n",
      "Destination_Long                             21201 non-null float64\n",
      "Rider_Id                                     21201 non-null object\n",
      "Time_from_Pickup_to_Arrival                  21201 non-null int64\n",
      "dtypes: float64(6), int64(13), object(10)\n",
      "memory usage: 4.7+ MB\n"
     ]
    },
    {
     "data": {
      "text/plain": [
       "(21201, 29)"
      ]
     },
     "execution_count": 21,
     "metadata": {},
     "output_type": "execute_result"
    }
   ],
   "source": [
    "train.info()\n",
    "train.shape"
   ]
  },
  {
   "cell_type": "code",
   "execution_count": 22,
   "metadata": {
    "hidden": true
   },
   "outputs": [],
   "source": [
    "#x_train= train.iloc[:, :-1]\n",
    "#y_train=train.iloc[:, -1]"
   ]
  },
  {
   "cell_type": "code",
   "execution_count": null,
   "metadata": {
    "hidden": true
   },
   "outputs": [],
   "source": []
  },
  {
   "cell_type": "code",
   "execution_count": null,
   "metadata": {
    "hidden": true
   },
   "outputs": [],
   "source": []
  },
  {
   "cell_type": "code",
   "execution_count": null,
   "metadata": {
    "hidden": true
   },
   "outputs": [],
   "source": []
  },
  {
   "cell_type": "code",
   "execution_count": null,
   "metadata": {
    "hidden": true
   },
   "outputs": [],
   "source": []
  },
  {
   "cell_type": "markdown",
   "metadata": {
    "heading_collapsed": true
   },
   "source": [
    "##### Testing set dataframe"
   ]
  },
  {
   "cell_type": "code",
   "execution_count": 23,
   "metadata": {
    "hidden": true
   },
   "outputs": [
    {
     "data": {
      "text/html": [
       "<div>\n",
       "<style scoped>\n",
       "    .dataframe tbody tr th:only-of-type {\n",
       "        vertical-align: middle;\n",
       "    }\n",
       "\n",
       "    .dataframe tbody tr th {\n",
       "        vertical-align: top;\n",
       "    }\n",
       "\n",
       "    .dataframe thead th {\n",
       "        text-align: right;\n",
       "    }\n",
       "</style>\n",
       "<table border=\"1\" class=\"dataframe\">\n",
       "  <thead>\n",
       "    <tr style=\"text-align: right;\">\n",
       "      <th></th>\n",
       "      <th>Order_No</th>\n",
       "      <th>User_Id</th>\n",
       "      <th>Vehicle_Type</th>\n",
       "      <th>Platform_Type</th>\n",
       "      <th>Personal_or_Business</th>\n",
       "      <th>Placement_-_Day_of_Month</th>\n",
       "      <th>Placement_-_Weekday_(Mo_=_1)</th>\n",
       "      <th>Placement_-_Time</th>\n",
       "      <th>Confirmation_-_Day_of_Month</th>\n",
       "      <th>Confirmation_-_Weekday_(Mo_=_1)</th>\n",
       "      <th>...</th>\n",
       "      <th>Pickup_-_Weekday_(Mo_=_1)</th>\n",
       "      <th>Pickup_-_Time</th>\n",
       "      <th>Distance_(KM)</th>\n",
       "      <th>Temperature</th>\n",
       "      <th>Precipitation_in_millimeters</th>\n",
       "      <th>Pickup_Lat</th>\n",
       "      <th>Pickup_Long</th>\n",
       "      <th>Destination_Lat</th>\n",
       "      <th>Destination_Long</th>\n",
       "      <th>Rider_Id</th>\n",
       "    </tr>\n",
       "  </thead>\n",
       "  <tbody>\n",
       "    <tr>\n",
       "      <td>0</td>\n",
       "      <td>Order_No_19248</td>\n",
       "      <td>User_Id_3355</td>\n",
       "      <td>Bike</td>\n",
       "      <td>3</td>\n",
       "      <td>Business</td>\n",
       "      <td>27</td>\n",
       "      <td>3</td>\n",
       "      <td>4:44:10 PM</td>\n",
       "      <td>27</td>\n",
       "      <td>3</td>\n",
       "      <td>...</td>\n",
       "      <td>3</td>\n",
       "      <td>5:06:47 PM</td>\n",
       "      <td>8</td>\n",
       "      <td>NaN</td>\n",
       "      <td>NaN</td>\n",
       "      <td>-1.333275</td>\n",
       "      <td>36.870815</td>\n",
       "      <td>-1.305249</td>\n",
       "      <td>36.822390</td>\n",
       "      <td>Rider_Id_192</td>\n",
       "    </tr>\n",
       "    <tr>\n",
       "      <td>1</td>\n",
       "      <td>Order_No_12736</td>\n",
       "      <td>User_Id_3647</td>\n",
       "      <td>Bike</td>\n",
       "      <td>3</td>\n",
       "      <td>Business</td>\n",
       "      <td>17</td>\n",
       "      <td>5</td>\n",
       "      <td>12:57:35 PM</td>\n",
       "      <td>17</td>\n",
       "      <td>5</td>\n",
       "      <td>...</td>\n",
       "      <td>5</td>\n",
       "      <td>1:25:37 PM</td>\n",
       "      <td>5</td>\n",
       "      <td>NaN</td>\n",
       "      <td>NaN</td>\n",
       "      <td>-1.272639</td>\n",
       "      <td>36.794723</td>\n",
       "      <td>-1.277007</td>\n",
       "      <td>36.823907</td>\n",
       "      <td>Rider_Id_868</td>\n",
       "    </tr>\n",
       "    <tr>\n",
       "      <td>2</td>\n",
       "      <td>Order_No_768</td>\n",
       "      <td>User_Id_2154</td>\n",
       "      <td>Bike</td>\n",
       "      <td>3</td>\n",
       "      <td>Business</td>\n",
       "      <td>27</td>\n",
       "      <td>4</td>\n",
       "      <td>11:08:14 AM</td>\n",
       "      <td>27</td>\n",
       "      <td>4</td>\n",
       "      <td>...</td>\n",
       "      <td>4</td>\n",
       "      <td>11:57:54 AM</td>\n",
       "      <td>5</td>\n",
       "      <td>22.8</td>\n",
       "      <td>NaN</td>\n",
       "      <td>-1.290894</td>\n",
       "      <td>36.822971</td>\n",
       "      <td>-1.276574</td>\n",
       "      <td>36.851365</td>\n",
       "      <td>Rider_Id_26</td>\n",
       "    </tr>\n",
       "    <tr>\n",
       "      <td>3</td>\n",
       "      <td>Order_No_15332</td>\n",
       "      <td>User_Id_2910</td>\n",
       "      <td>Bike</td>\n",
       "      <td>3</td>\n",
       "      <td>Business</td>\n",
       "      <td>17</td>\n",
       "      <td>1</td>\n",
       "      <td>1:51:35 PM</td>\n",
       "      <td>17</td>\n",
       "      <td>1</td>\n",
       "      <td>...</td>\n",
       "      <td>1</td>\n",
       "      <td>2:16:52 PM</td>\n",
       "      <td>5</td>\n",
       "      <td>24.5</td>\n",
       "      <td>NaN</td>\n",
       "      <td>-1.290503</td>\n",
       "      <td>36.809646</td>\n",
       "      <td>-1.303382</td>\n",
       "      <td>36.790658</td>\n",
       "      <td>Rider_Id_685</td>\n",
       "    </tr>\n",
       "    <tr>\n",
       "      <td>4</td>\n",
       "      <td>Order_No_21373</td>\n",
       "      <td>User_Id_1205</td>\n",
       "      <td>Bike</td>\n",
       "      <td>3</td>\n",
       "      <td>Business</td>\n",
       "      <td>11</td>\n",
       "      <td>2</td>\n",
       "      <td>11:30:28 AM</td>\n",
       "      <td>11</td>\n",
       "      <td>2</td>\n",
       "      <td>...</td>\n",
       "      <td>2</td>\n",
       "      <td>11:56:04 AM</td>\n",
       "      <td>6</td>\n",
       "      <td>24.4</td>\n",
       "      <td>NaN</td>\n",
       "      <td>-1.281081</td>\n",
       "      <td>36.814423</td>\n",
       "      <td>-1.266467</td>\n",
       "      <td>36.792161</td>\n",
       "      <td>Rider_Id_858</td>\n",
       "    </tr>\n",
       "  </tbody>\n",
       "</table>\n",
       "<p>5 rows × 25 columns</p>\n",
       "</div>"
      ],
      "text/plain": [
       "         Order_No       User_Id Vehicle_Type  Platform_Type  \\\n",
       "0  Order_No_19248  User_Id_3355         Bike              3   \n",
       "1  Order_No_12736  User_Id_3647         Bike              3   \n",
       "2    Order_No_768  User_Id_2154         Bike              3   \n",
       "3  Order_No_15332  User_Id_2910         Bike              3   \n",
       "4  Order_No_21373  User_Id_1205         Bike              3   \n",
       "\n",
       "  Personal_or_Business  Placement_-_Day_of_Month  \\\n",
       "0             Business                        27   \n",
       "1             Business                        17   \n",
       "2             Business                        27   \n",
       "3             Business                        17   \n",
       "4             Business                        11   \n",
       "\n",
       "   Placement_-_Weekday_(Mo_=_1) Placement_-_Time  Confirmation_-_Day_of_Month  \\\n",
       "0                             3       4:44:10 PM                           27   \n",
       "1                             5      12:57:35 PM                           17   \n",
       "2                             4      11:08:14 AM                           27   \n",
       "3                             1       1:51:35 PM                           17   \n",
       "4                             2      11:30:28 AM                           11   \n",
       "\n",
       "   Confirmation_-_Weekday_(Mo_=_1)  ... Pickup_-_Weekday_(Mo_=_1)  \\\n",
       "0                                3  ...                         3   \n",
       "1                                5  ...                         5   \n",
       "2                                4  ...                         4   \n",
       "3                                1  ...                         1   \n",
       "4                                2  ...                         2   \n",
       "\n",
       "   Pickup_-_Time  Distance_(KM) Temperature  Precipitation_in_millimeters  \\\n",
       "0     5:06:47 PM              8         NaN                           NaN   \n",
       "1     1:25:37 PM              5         NaN                           NaN   \n",
       "2    11:57:54 AM              5        22.8                           NaN   \n",
       "3     2:16:52 PM              5        24.5                           NaN   \n",
       "4    11:56:04 AM              6        24.4                           NaN   \n",
       "\n",
       "   Pickup_Lat Pickup_Long  Destination_Lat  Destination_Long      Rider_Id  \n",
       "0   -1.333275   36.870815        -1.305249         36.822390  Rider_Id_192  \n",
       "1   -1.272639   36.794723        -1.277007         36.823907  Rider_Id_868  \n",
       "2   -1.290894   36.822971        -1.276574         36.851365   Rider_Id_26  \n",
       "3   -1.290503   36.809646        -1.303382         36.790658  Rider_Id_685  \n",
       "4   -1.281081   36.814423        -1.266467         36.792161  Rider_Id_858  \n",
       "\n",
       "[5 rows x 25 columns]"
      ]
     },
     "execution_count": 23,
     "metadata": {},
     "output_type": "execute_result"
    }
   ],
   "source": [
    "test= pd.read_csv('https://raw.githubusercontent.com/thembeks/Regression-Sendy-Logistics-Challenge-Team-14/Predict/Test.csv')\n",
    "test.columns= [col.replace(' ', '_') for col in test.columns]\n",
    "test.head()"
   ]
  },
  {
   "cell_type": "code",
   "execution_count": 24,
   "metadata": {
    "hidden": true
   },
   "outputs": [
    {
     "name": "stdout",
     "output_type": "stream",
     "text": [
      "<class 'pandas.core.frame.DataFrame'>\n",
      "RangeIndex: 7068 entries, 0 to 7067\n",
      "Data columns (total 25 columns):\n",
      "Order_No                                7068 non-null object\n",
      "User_Id                                 7068 non-null object\n",
      "Vehicle_Type                            7068 non-null object\n",
      "Platform_Type                           7068 non-null int64\n",
      "Personal_or_Business                    7068 non-null object\n",
      "Placement_-_Day_of_Month                7068 non-null int64\n",
      "Placement_-_Weekday_(Mo_=_1)            7068 non-null int64\n",
      "Placement_-_Time                        7068 non-null object\n",
      "Confirmation_-_Day_of_Month             7068 non-null int64\n",
      "Confirmation_-_Weekday_(Mo_=_1)         7068 non-null int64\n",
      "Confirmation_-_Time                     7068 non-null object\n",
      "Arrival_at_Pickup_-_Day_of_Month        7068 non-null int64\n",
      "Arrival_at_Pickup_-_Weekday_(Mo_=_1)    7068 non-null int64\n",
      "Arrival_at_Pickup_-_Time                7068 non-null object\n",
      "Pickup_-_Day_of_Month                   7068 non-null int64\n",
      "Pickup_-_Weekday_(Mo_=_1)               7068 non-null int64\n",
      "Pickup_-_Time                           7068 non-null object\n",
      "Distance_(KM)                           7068 non-null int64\n",
      "Temperature                             5631 non-null float64\n",
      "Precipitation_in_millimeters            199 non-null float64\n",
      "Pickup_Lat                              7068 non-null float64\n",
      "Pickup_Long                             7068 non-null float64\n",
      "Destination_Lat                         7068 non-null float64\n",
      "Destination_Long                        7068 non-null float64\n",
      "Rider_Id                                7068 non-null object\n",
      "dtypes: float64(6), int64(10), object(9)\n",
      "memory usage: 1.3+ MB\n"
     ]
    },
    {
     "data": {
      "text/plain": [
       "(7068, 25)"
      ]
     },
     "execution_count": 24,
     "metadata": {},
     "output_type": "execute_result"
    }
   ],
   "source": [
    "test.info()\n",
    "test.shape"
   ]
  },
  {
   "cell_type": "code",
   "execution_count": null,
   "metadata": {
    "hidden": true
   },
   "outputs": [],
   "source": []
  },
  {
   "cell_type": "code",
   "execution_count": null,
   "metadata": {
    "hidden": true
   },
   "outputs": [],
   "source": []
  },
  {
   "cell_type": "code",
   "execution_count": null,
   "metadata": {
    "hidden": true
   },
   "outputs": [],
   "source": []
  },
  {
   "cell_type": "code",
   "execution_count": null,
   "metadata": {
    "hidden": true
   },
   "outputs": [],
   "source": []
  },
  {
   "cell_type": "code",
   "execution_count": null,
   "metadata": {
    "hidden": true
   },
   "outputs": [],
   "source": []
  },
  {
   "cell_type": "code",
   "execution_count": null,
   "metadata": {
    "hidden": true
   },
   "outputs": [],
   "source": []
  },
  {
   "cell_type": "markdown",
   "metadata": {
    "heading_collapsed": true
   },
   "source": [
    "## Missing data"
   ]
  },
  {
   "cell_type": "code",
   "execution_count": null,
   "metadata": {
    "hidden": true
   },
   "outputs": [],
   "source": []
  },
  {
   "cell_type": "code",
   "execution_count": null,
   "metadata": {
    "hidden": true
   },
   "outputs": [],
   "source": []
  },
  {
   "cell_type": "markdown",
   "metadata": {},
   "source": [
    "## Encoding categorical data"
   ]
  },
  {
   "cell_type": "markdown",
   "metadata": {
    "heading_collapsed": true
   },
   "source": [
    "##### Training set dataframe"
   ]
  },
  {
   "cell_type": "code",
   "execution_count": 26,
   "metadata": {
    "hidden": true
   },
   "outputs": [],
   "source": [
    "train=  pd.get_dummies(train, columns=['Vehicle_Type', 'Platform_Type', 'Personal_or_Business'])"
   ]
  },
  {
   "cell_type": "code",
   "execution_count": 27,
   "metadata": {
    "hidden": true
   },
   "outputs": [
    {
     "data": {
      "text/html": [
       "<div>\n",
       "<style scoped>\n",
       "    .dataframe tbody tr th:only-of-type {\n",
       "        vertical-align: middle;\n",
       "    }\n",
       "\n",
       "    .dataframe tbody tr th {\n",
       "        vertical-align: top;\n",
       "    }\n",
       "\n",
       "    .dataframe thead th {\n",
       "        text-align: right;\n",
       "    }\n",
       "</style>\n",
       "<table border=\"1\" class=\"dataframe\">\n",
       "  <thead>\n",
       "    <tr style=\"text-align: right;\">\n",
       "      <th></th>\n",
       "      <th>Order_No</th>\n",
       "      <th>User_Id</th>\n",
       "      <th>Placement_-_Day_of_Month</th>\n",
       "      <th>Placement_-_Weekday_(Mo_=_1)</th>\n",
       "      <th>Placement_-_Time</th>\n",
       "      <th>Confirmation_-_Day_of_Month</th>\n",
       "      <th>Confirmation_-_Weekday_(Mo_=_1)</th>\n",
       "      <th>Confirmation_-_Time</th>\n",
       "      <th>Arrival_at_Pickup_-_Day_of_Month</th>\n",
       "      <th>Arrival_at_Pickup_-_Weekday_(Mo_=_1)</th>\n",
       "      <th>...</th>\n",
       "      <th>Destination_Long</th>\n",
       "      <th>Rider_Id</th>\n",
       "      <th>Time_from_Pickup_to_Arrival</th>\n",
       "      <th>Vehicle_Type_Bike</th>\n",
       "      <th>Platform_Type_1</th>\n",
       "      <th>Platform_Type_2</th>\n",
       "      <th>Platform_Type_3</th>\n",
       "      <th>Platform_Type_4</th>\n",
       "      <th>Personal_or_Business_Business</th>\n",
       "      <th>Personal_or_Business_Personal</th>\n",
       "    </tr>\n",
       "  </thead>\n",
       "  <tbody>\n",
       "    <tr>\n",
       "      <td>0</td>\n",
       "      <td>Order_No_4211</td>\n",
       "      <td>User_Id_633</td>\n",
       "      <td>9</td>\n",
       "      <td>5</td>\n",
       "      <td>9:35:46 AM</td>\n",
       "      <td>9</td>\n",
       "      <td>5</td>\n",
       "      <td>9:40:10 AM</td>\n",
       "      <td>9</td>\n",
       "      <td>5</td>\n",
       "      <td>...</td>\n",
       "      <td>36.829741</td>\n",
       "      <td>Rider_Id_432</td>\n",
       "      <td>745</td>\n",
       "      <td>1</td>\n",
       "      <td>0</td>\n",
       "      <td>0</td>\n",
       "      <td>1</td>\n",
       "      <td>0</td>\n",
       "      <td>1</td>\n",
       "      <td>0</td>\n",
       "    </tr>\n",
       "    <tr>\n",
       "      <td>1</td>\n",
       "      <td>Order_No_25375</td>\n",
       "      <td>User_Id_2285</td>\n",
       "      <td>12</td>\n",
       "      <td>5</td>\n",
       "      <td>11:16:16 AM</td>\n",
       "      <td>12</td>\n",
       "      <td>5</td>\n",
       "      <td>11:23:21 AM</td>\n",
       "      <td>12</td>\n",
       "      <td>5</td>\n",
       "      <td>...</td>\n",
       "      <td>36.814358</td>\n",
       "      <td>Rider_Id_856</td>\n",
       "      <td>1993</td>\n",
       "      <td>1</td>\n",
       "      <td>0</td>\n",
       "      <td>0</td>\n",
       "      <td>1</td>\n",
       "      <td>0</td>\n",
       "      <td>0</td>\n",
       "      <td>1</td>\n",
       "    </tr>\n",
       "    <tr>\n",
       "      <td>2</td>\n",
       "      <td>Order_No_1899</td>\n",
       "      <td>User_Id_265</td>\n",
       "      <td>30</td>\n",
       "      <td>2</td>\n",
       "      <td>12:39:25 PM</td>\n",
       "      <td>30</td>\n",
       "      <td>2</td>\n",
       "      <td>12:42:44 PM</td>\n",
       "      <td>30</td>\n",
       "      <td>2</td>\n",
       "      <td>...</td>\n",
       "      <td>36.828195</td>\n",
       "      <td>Rider_Id_155</td>\n",
       "      <td>455</td>\n",
       "      <td>1</td>\n",
       "      <td>0</td>\n",
       "      <td>0</td>\n",
       "      <td>1</td>\n",
       "      <td>0</td>\n",
       "      <td>1</td>\n",
       "      <td>0</td>\n",
       "    </tr>\n",
       "    <tr>\n",
       "      <td>3</td>\n",
       "      <td>Order_No_9336</td>\n",
       "      <td>User_Id_1402</td>\n",
       "      <td>15</td>\n",
       "      <td>5</td>\n",
       "      <td>9:25:34 AM</td>\n",
       "      <td>15</td>\n",
       "      <td>5</td>\n",
       "      <td>9:26:05 AM</td>\n",
       "      <td>15</td>\n",
       "      <td>5</td>\n",
       "      <td>...</td>\n",
       "      <td>36.795063</td>\n",
       "      <td>Rider_Id_855</td>\n",
       "      <td>1341</td>\n",
       "      <td>1</td>\n",
       "      <td>0</td>\n",
       "      <td>0</td>\n",
       "      <td>1</td>\n",
       "      <td>0</td>\n",
       "      <td>1</td>\n",
       "      <td>0</td>\n",
       "    </tr>\n",
       "    <tr>\n",
       "      <td>4</td>\n",
       "      <td>Order_No_27883</td>\n",
       "      <td>User_Id_1737</td>\n",
       "      <td>13</td>\n",
       "      <td>1</td>\n",
       "      <td>9:55:18 AM</td>\n",
       "      <td>13</td>\n",
       "      <td>1</td>\n",
       "      <td>9:56:18 AM</td>\n",
       "      <td>13</td>\n",
       "      <td>1</td>\n",
       "      <td>...</td>\n",
       "      <td>36.809817</td>\n",
       "      <td>Rider_Id_770</td>\n",
       "      <td>1214</td>\n",
       "      <td>1</td>\n",
       "      <td>1</td>\n",
       "      <td>0</td>\n",
       "      <td>0</td>\n",
       "      <td>0</td>\n",
       "      <td>0</td>\n",
       "      <td>1</td>\n",
       "    </tr>\n",
       "  </tbody>\n",
       "</table>\n",
       "<p>5 rows × 33 columns</p>\n",
       "</div>"
      ],
      "text/plain": [
       "         Order_No       User_Id  Placement_-_Day_of_Month  \\\n",
       "0   Order_No_4211   User_Id_633                         9   \n",
       "1  Order_No_25375  User_Id_2285                        12   \n",
       "2   Order_No_1899   User_Id_265                        30   \n",
       "3   Order_No_9336  User_Id_1402                        15   \n",
       "4  Order_No_27883  User_Id_1737                        13   \n",
       "\n",
       "   Placement_-_Weekday_(Mo_=_1) Placement_-_Time  Confirmation_-_Day_of_Month  \\\n",
       "0                             5       9:35:46 AM                            9   \n",
       "1                             5      11:16:16 AM                           12   \n",
       "2                             2      12:39:25 PM                           30   \n",
       "3                             5       9:25:34 AM                           15   \n",
       "4                             1       9:55:18 AM                           13   \n",
       "\n",
       "   Confirmation_-_Weekday_(Mo_=_1) Confirmation_-_Time  \\\n",
       "0                                5          9:40:10 AM   \n",
       "1                                5         11:23:21 AM   \n",
       "2                                2         12:42:44 PM   \n",
       "3                                5          9:26:05 AM   \n",
       "4                                1          9:56:18 AM   \n",
       "\n",
       "   Arrival_at_Pickup_-_Day_of_Month  Arrival_at_Pickup_-_Weekday_(Mo_=_1)  \\\n",
       "0                                 9                                     5   \n",
       "1                                12                                     5   \n",
       "2                                30                                     2   \n",
       "3                                15                                     5   \n",
       "4                                13                                     1   \n",
       "\n",
       "   ... Destination_Long      Rider_Id  Time_from_Pickup_to_Arrival  \\\n",
       "0  ...        36.829741  Rider_Id_432                          745   \n",
       "1  ...        36.814358  Rider_Id_856                         1993   \n",
       "2  ...        36.828195  Rider_Id_155                          455   \n",
       "3  ...        36.795063  Rider_Id_855                         1341   \n",
       "4  ...        36.809817  Rider_Id_770                         1214   \n",
       "\n",
       "  Vehicle_Type_Bike  Platform_Type_1  Platform_Type_2 Platform_Type_3  \\\n",
       "0                 1                0                0               1   \n",
       "1                 1                0                0               1   \n",
       "2                 1                0                0               1   \n",
       "3                 1                0                0               1   \n",
       "4                 1                1                0               0   \n",
       "\n",
       "   Platform_Type_4  Personal_or_Business_Business  \\\n",
       "0                0                              1   \n",
       "1                0                              0   \n",
       "2                0                              1   \n",
       "3                0                              1   \n",
       "4                0                              0   \n",
       "\n",
       "   Personal_or_Business_Personal  \n",
       "0                              0  \n",
       "1                              1  \n",
       "2                              0  \n",
       "3                              0  \n",
       "4                              1  \n",
       "\n",
       "[5 rows x 33 columns]"
      ]
     },
     "execution_count": 27,
     "metadata": {},
     "output_type": "execute_result"
    }
   ],
   "source": [
    "train.head()"
   ]
  },
  {
   "cell_type": "code",
   "execution_count": null,
   "metadata": {
    "hidden": true
   },
   "outputs": [],
   "source": []
  },
  {
   "cell_type": "markdown",
   "metadata": {
    "heading_collapsed": true
   },
   "source": [
    "##### Test set dataframe"
   ]
  },
  {
   "cell_type": "code",
   "execution_count": 28,
   "metadata": {
    "hidden": true
   },
   "outputs": [],
   "source": [
    "test=  pd.get_dummies(test, columns=['Vehicle_Type', 'Platform_Type', 'Personal_or_Business'])"
   ]
  },
  {
   "cell_type": "code",
   "execution_count": 29,
   "metadata": {
    "hidden": true
   },
   "outputs": [
    {
     "data": {
      "text/html": [
       "<div>\n",
       "<style scoped>\n",
       "    .dataframe tbody tr th:only-of-type {\n",
       "        vertical-align: middle;\n",
       "    }\n",
       "\n",
       "    .dataframe tbody tr th {\n",
       "        vertical-align: top;\n",
       "    }\n",
       "\n",
       "    .dataframe thead th {\n",
       "        text-align: right;\n",
       "    }\n",
       "</style>\n",
       "<table border=\"1\" class=\"dataframe\">\n",
       "  <thead>\n",
       "    <tr style=\"text-align: right;\">\n",
       "      <th></th>\n",
       "      <th>Order_No</th>\n",
       "      <th>User_Id</th>\n",
       "      <th>Placement_-_Day_of_Month</th>\n",
       "      <th>Placement_-_Weekday_(Mo_=_1)</th>\n",
       "      <th>Placement_-_Time</th>\n",
       "      <th>Confirmation_-_Day_of_Month</th>\n",
       "      <th>Confirmation_-_Weekday_(Mo_=_1)</th>\n",
       "      <th>Confirmation_-_Time</th>\n",
       "      <th>Arrival_at_Pickup_-_Day_of_Month</th>\n",
       "      <th>Arrival_at_Pickup_-_Weekday_(Mo_=_1)</th>\n",
       "      <th>...</th>\n",
       "      <th>Destination_Lat</th>\n",
       "      <th>Destination_Long</th>\n",
       "      <th>Rider_Id</th>\n",
       "      <th>Vehicle_Type_Bike</th>\n",
       "      <th>Platform_Type_1</th>\n",
       "      <th>Platform_Type_2</th>\n",
       "      <th>Platform_Type_3</th>\n",
       "      <th>Platform_Type_4</th>\n",
       "      <th>Personal_or_Business_Business</th>\n",
       "      <th>Personal_or_Business_Personal</th>\n",
       "    </tr>\n",
       "  </thead>\n",
       "  <tbody>\n",
       "    <tr>\n",
       "      <td>0</td>\n",
       "      <td>Order_No_19248</td>\n",
       "      <td>User_Id_3355</td>\n",
       "      <td>27</td>\n",
       "      <td>3</td>\n",
       "      <td>4:44:10 PM</td>\n",
       "      <td>27</td>\n",
       "      <td>3</td>\n",
       "      <td>4:44:29 PM</td>\n",
       "      <td>27</td>\n",
       "      <td>3</td>\n",
       "      <td>...</td>\n",
       "      <td>-1.305249</td>\n",
       "      <td>36.822390</td>\n",
       "      <td>Rider_Id_192</td>\n",
       "      <td>1</td>\n",
       "      <td>0</td>\n",
       "      <td>0</td>\n",
       "      <td>1</td>\n",
       "      <td>0</td>\n",
       "      <td>1</td>\n",
       "      <td>0</td>\n",
       "    </tr>\n",
       "    <tr>\n",
       "      <td>1</td>\n",
       "      <td>Order_No_12736</td>\n",
       "      <td>User_Id_3647</td>\n",
       "      <td>17</td>\n",
       "      <td>5</td>\n",
       "      <td>12:57:35 PM</td>\n",
       "      <td>17</td>\n",
       "      <td>5</td>\n",
       "      <td>12:59:17 PM</td>\n",
       "      <td>17</td>\n",
       "      <td>5</td>\n",
       "      <td>...</td>\n",
       "      <td>-1.277007</td>\n",
       "      <td>36.823907</td>\n",
       "      <td>Rider_Id_868</td>\n",
       "      <td>1</td>\n",
       "      <td>0</td>\n",
       "      <td>0</td>\n",
       "      <td>1</td>\n",
       "      <td>0</td>\n",
       "      <td>1</td>\n",
       "      <td>0</td>\n",
       "    </tr>\n",
       "    <tr>\n",
       "      <td>2</td>\n",
       "      <td>Order_No_768</td>\n",
       "      <td>User_Id_2154</td>\n",
       "      <td>27</td>\n",
       "      <td>4</td>\n",
       "      <td>11:08:14 AM</td>\n",
       "      <td>27</td>\n",
       "      <td>4</td>\n",
       "      <td>11:25:05 AM</td>\n",
       "      <td>27</td>\n",
       "      <td>4</td>\n",
       "      <td>...</td>\n",
       "      <td>-1.276574</td>\n",
       "      <td>36.851365</td>\n",
       "      <td>Rider_Id_26</td>\n",
       "      <td>1</td>\n",
       "      <td>0</td>\n",
       "      <td>0</td>\n",
       "      <td>1</td>\n",
       "      <td>0</td>\n",
       "      <td>1</td>\n",
       "      <td>0</td>\n",
       "    </tr>\n",
       "    <tr>\n",
       "      <td>3</td>\n",
       "      <td>Order_No_15332</td>\n",
       "      <td>User_Id_2910</td>\n",
       "      <td>17</td>\n",
       "      <td>1</td>\n",
       "      <td>1:51:35 PM</td>\n",
       "      <td>17</td>\n",
       "      <td>1</td>\n",
       "      <td>1:53:27 PM</td>\n",
       "      <td>17</td>\n",
       "      <td>1</td>\n",
       "      <td>...</td>\n",
       "      <td>-1.303382</td>\n",
       "      <td>36.790658</td>\n",
       "      <td>Rider_Id_685</td>\n",
       "      <td>1</td>\n",
       "      <td>0</td>\n",
       "      <td>0</td>\n",
       "      <td>1</td>\n",
       "      <td>0</td>\n",
       "      <td>1</td>\n",
       "      <td>0</td>\n",
       "    </tr>\n",
       "    <tr>\n",
       "      <td>4</td>\n",
       "      <td>Order_No_21373</td>\n",
       "      <td>User_Id_1205</td>\n",
       "      <td>11</td>\n",
       "      <td>2</td>\n",
       "      <td>11:30:28 AM</td>\n",
       "      <td>11</td>\n",
       "      <td>2</td>\n",
       "      <td>11:34:45 AM</td>\n",
       "      <td>11</td>\n",
       "      <td>2</td>\n",
       "      <td>...</td>\n",
       "      <td>-1.266467</td>\n",
       "      <td>36.792161</td>\n",
       "      <td>Rider_Id_858</td>\n",
       "      <td>1</td>\n",
       "      <td>0</td>\n",
       "      <td>0</td>\n",
       "      <td>1</td>\n",
       "      <td>0</td>\n",
       "      <td>1</td>\n",
       "      <td>0</td>\n",
       "    </tr>\n",
       "  </tbody>\n",
       "</table>\n",
       "<p>5 rows × 29 columns</p>\n",
       "</div>"
      ],
      "text/plain": [
       "         Order_No       User_Id  Placement_-_Day_of_Month  \\\n",
       "0  Order_No_19248  User_Id_3355                        27   \n",
       "1  Order_No_12736  User_Id_3647                        17   \n",
       "2    Order_No_768  User_Id_2154                        27   \n",
       "3  Order_No_15332  User_Id_2910                        17   \n",
       "4  Order_No_21373  User_Id_1205                        11   \n",
       "\n",
       "   Placement_-_Weekday_(Mo_=_1) Placement_-_Time  Confirmation_-_Day_of_Month  \\\n",
       "0                             3       4:44:10 PM                           27   \n",
       "1                             5      12:57:35 PM                           17   \n",
       "2                             4      11:08:14 AM                           27   \n",
       "3                             1       1:51:35 PM                           17   \n",
       "4                             2      11:30:28 AM                           11   \n",
       "\n",
       "   Confirmation_-_Weekday_(Mo_=_1) Confirmation_-_Time  \\\n",
       "0                                3          4:44:29 PM   \n",
       "1                                5         12:59:17 PM   \n",
       "2                                4         11:25:05 AM   \n",
       "3                                1          1:53:27 PM   \n",
       "4                                2         11:34:45 AM   \n",
       "\n",
       "   Arrival_at_Pickup_-_Day_of_Month  Arrival_at_Pickup_-_Weekday_(Mo_=_1)  \\\n",
       "0                                27                                     3   \n",
       "1                                17                                     5   \n",
       "2                                27                                     4   \n",
       "3                                17                                     1   \n",
       "4                                11                                     2   \n",
       "\n",
       "   ... Destination_Lat  Destination_Long      Rider_Id Vehicle_Type_Bike  \\\n",
       "0  ...       -1.305249         36.822390  Rider_Id_192                 1   \n",
       "1  ...       -1.277007         36.823907  Rider_Id_868                 1   \n",
       "2  ...       -1.276574         36.851365   Rider_Id_26                 1   \n",
       "3  ...       -1.303382         36.790658  Rider_Id_685                 1   \n",
       "4  ...       -1.266467         36.792161  Rider_Id_858                 1   \n",
       "\n",
       "   Platform_Type_1  Platform_Type_2  Platform_Type_3  Platform_Type_4  \\\n",
       "0                0                0                1                0   \n",
       "1                0                0                1                0   \n",
       "2                0                0                1                0   \n",
       "3                0                0                1                0   \n",
       "4                0                0                1                0   \n",
       "\n",
       "   Personal_or_Business_Business  Personal_or_Business_Personal  \n",
       "0                              1                              0  \n",
       "1                              1                              0  \n",
       "2                              1                              0  \n",
       "3                              1                              0  \n",
       "4                              1                              0  \n",
       "\n",
       "[5 rows x 29 columns]"
      ]
     },
     "execution_count": 29,
     "metadata": {},
     "output_type": "execute_result"
    }
   ],
   "source": [
    "test.head()"
   ]
  },
  {
   "cell_type": "code",
   "execution_count": null,
   "metadata": {
    "hidden": true
   },
   "outputs": [],
   "source": []
  },
  {
   "cell_type": "markdown",
   "metadata": {
    "heading_collapsed": true
   },
   "source": [
    "## Splitting the dataset"
   ]
  },
  {
   "cell_type": "code",
   "execution_count": null,
   "metadata": {
    "hidden": true
   },
   "outputs": [],
   "source": []
  },
  {
   "cell_type": "code",
   "execution_count": null,
   "metadata": {
    "hidden": true
   },
   "outputs": [],
   "source": []
  },
  {
   "cell_type": "markdown",
   "metadata": {
    "heading_collapsed": true
   },
   "source": [
    "## Feature scaling"
   ]
  },
  {
   "cell_type": "code",
   "execution_count": null,
   "metadata": {
    "hidden": true
   },
   "outputs": [],
   "source": []
  },
  {
   "cell_type": "code",
   "execution_count": null,
   "metadata": {
    "hidden": true
   },
   "outputs": [],
   "source": []
  },
  {
   "cell_type": "markdown",
   "metadata": {
    "heading_collapsed": true
   },
   "source": [
    "# Exploratory Data Analysis"
   ]
  },
  {
   "cell_type": "code",
   "execution_count": 30,
   "metadata": {
    "hidden": true
   },
   "outputs": [],
   "source": [
    "from pandas_profiling import ProfileReport\n",
    "from IPython.display import IFrame"
   ]
  },
  {
   "cell_type": "markdown",
   "metadata": {
    "heading_collapsed": true,
    "hidden": true
   },
   "source": [
    "##### Rider dataframe"
   ]
  },
  {
   "cell_type": "code",
   "execution_count": 32,
   "metadata": {
    "hidden": true
   },
   "outputs": [
    {
     "name": "stderr",
     "output_type": "stream",
     "text": [
      "C:\\Users\\Suzzy\\Anaconda3\\lib\\site-packages\\pandas_profiling\\describe.py:392: FutureWarning: The join_axes-keyword is deprecated. Use .reindex or .reindex_like on the result to achieve the same functionality.\n",
      "  variable_stats = pd.concat(ldesc, join_axes=pd.Index([names]), axis=1)\n"
     ]
    },
    {
     "data": {
      "text/html": [
       "\n",
       "        <iframe\n",
       "            width=\"900\"\n",
       "            height=\"800\"\n",
       "            src=\"./output.html\"\n",
       "            frameborder=\"0\"\n",
       "            allowfullscreen\n",
       "        ></iframe>\n",
       "        "
      ],
      "text/plain": [
       "<IPython.lib.display.IFrame at 0x2712f2f7748>"
      ]
     },
     "execution_count": 32,
     "metadata": {},
     "output_type": "execute_result"
    }
   ],
   "source": [
    "prof_rider = ProfileReport(rider, check_correlation = True)\n",
    "prof_rider.to_file(outputfile='output.html')\n",
    "\n",
    "HtmlFile = open('output.html', 'r', encoding='utf-8')\n",
    "source_code = HtmlFile.read()\n",
    "\n",
    "IFrame(src='./output.html', width=900, height=800)"
   ]
  },
  {
   "cell_type": "markdown",
   "metadata": {
    "heading_collapsed": true,
    "hidden": true
   },
   "source": [
    "##### Sample Submission dataframe"
   ]
  },
  {
   "cell_type": "code",
   "execution_count": 33,
   "metadata": {
    "hidden": true
   },
   "outputs": [
    {
     "name": "stderr",
     "output_type": "stream",
     "text": [
      "C:\\Users\\Suzzy\\Anaconda3\\lib\\site-packages\\pandas_profiling\\describe.py:392: FutureWarning: The join_axes-keyword is deprecated. Use .reindex or .reindex_like on the result to achieve the same functionality.\n",
      "  variable_stats = pd.concat(ldesc, join_axes=pd.Index([names]), axis=1)\n"
     ]
    },
    {
     "data": {
      "text/html": [
       "\n",
       "        <iframe\n",
       "            width=\"900\"\n",
       "            height=\"800\"\n",
       "            src=\"./output.html\"\n",
       "            frameborder=\"0\"\n",
       "            allowfullscreen\n",
       "        ></iframe>\n",
       "        "
      ],
      "text/plain": [
       "<IPython.lib.display.IFrame at 0x2712ce1a248>"
      ]
     },
     "execution_count": 33,
     "metadata": {},
     "output_type": "execute_result"
    }
   ],
   "source": [
    "prof_sample = ProfileReport(sample_submission, check_correlation = True)\n",
    "prof_sample.to_file(outputfile='output.html')\n",
    "\n",
    "HtmlFile = open('output.html', 'r', encoding='utf-8')\n",
    "source_code = HtmlFile.read()\n",
    "\n",
    "IFrame(src='./output.html', width=900, height=800)"
   ]
  },
  {
   "cell_type": "markdown",
   "metadata": {
    "heading_collapsed": true,
    "hidden": true
   },
   "source": [
    "##### Training set dataframe"
   ]
  },
  {
   "cell_type": "code",
   "execution_count": 34,
   "metadata": {
    "hidden": true
   },
   "outputs": [
    {
     "name": "stderr",
     "output_type": "stream",
     "text": [
      "C:\\Users\\Suzzy\\Anaconda3\\lib\\site-packages\\pandas_profiling\\describe.py:392: FutureWarning: The join_axes-keyword is deprecated. Use .reindex or .reindex_like on the result to achieve the same functionality.\n",
      "  variable_stats = pd.concat(ldesc, join_axes=pd.Index([names]), axis=1)\n"
     ]
    },
    {
     "data": {
      "text/html": [
       "\n",
       "        <iframe\n",
       "            width=\"900\"\n",
       "            height=\"800\"\n",
       "            src=\"./output.html\"\n",
       "            frameborder=\"0\"\n",
       "            allowfullscreen\n",
       "        ></iframe>\n",
       "        "
      ],
      "text/plain": [
       "<IPython.lib.display.IFrame at 0x2712e50ad48>"
      ]
     },
     "execution_count": 34,
     "metadata": {},
     "output_type": "execute_result"
    }
   ],
   "source": [
    "prof_train = ProfileReport(train, check_correlation = True)\n",
    "prof_train.to_file(outputfile='output.html')\n",
    "\n",
    "HtmlFile = open('output.html', 'r', encoding='utf-8')\n",
    "source_code = HtmlFile.read()\n",
    "\n",
    "IFrame(src='./output.html', width=900, height=800)"
   ]
  },
  {
   "cell_type": "markdown",
   "metadata": {
    "heading_collapsed": true
   },
   "source": [
    "# Base Model"
   ]
  },
  {
   "cell_type": "code",
   "execution_count": null,
   "metadata": {
    "hidden": true
   },
   "outputs": [],
   "source": []
  },
  {
   "cell_type": "code",
   "execution_count": null,
   "metadata": {
    "hidden": true
   },
   "outputs": [],
   "source": []
  },
  {
   "cell_type": "code",
   "execution_count": null,
   "metadata": {
    "hidden": true
   },
   "outputs": [],
   "source": []
  },
  {
   "cell_type": "code",
   "execution_count": null,
   "metadata": {
    "hidden": true
   },
   "outputs": [],
   "source": []
  },
  {
   "cell_type": "code",
   "execution_count": null,
   "metadata": {
    "hidden": true
   },
   "outputs": [],
   "source": []
  },
  {
   "cell_type": "code",
   "execution_count": null,
   "metadata": {
    "hidden": true
   },
   "outputs": [],
   "source": []
  },
  {
   "cell_type": "code",
   "execution_count": null,
   "metadata": {
    "hidden": true
   },
   "outputs": [],
   "source": []
  },
  {
   "cell_type": "code",
   "execution_count": null,
   "metadata": {
    "hidden": true
   },
   "outputs": [],
   "source": []
  },
  {
   "cell_type": "code",
   "execution_count": null,
   "metadata": {
    "hidden": true
   },
   "outputs": [],
   "source": []
  }
 ],
 "metadata": {
  "kernelspec": {
   "display_name": "Python 3",
   "language": "python",
   "name": "python3"
  },
  "language_info": {
   "codemirror_mode": {
    "name": "ipython",
    "version": 3
   },
   "file_extension": ".py",
   "mimetype": "text/x-python",
   "name": "python",
   "nbconvert_exporter": "python",
   "pygments_lexer": "ipython3",
   "version": "3.7.4"
  }
 },
 "nbformat": 4,
 "nbformat_minor": 2
}
